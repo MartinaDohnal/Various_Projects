{
 "cells": [
  {
   "cell_type": "markdown",
   "id": "55c151bd",
   "metadata": {},
   "source": [
    "### Task 1: DEFINE A PANDAS SERIES"
   ]
  },
  {
   "cell_type": "markdown",
   "id": "2bfe17e0",
   "metadata": {},
   "source": [
    "Let's import library"
   ]
  },
  {
   "cell_type": "code",
   "execution_count": 2,
   "id": "7d82f844",
   "metadata": {},
   "outputs": [],
   "source": [
    "import pandas as pd"
   ]
  },
  {
   "cell_type": "markdown",
   "id": "85a99589",
   "metadata": {},
   "source": [
    "Let's define a Python list that contains 5 crypto currencies "
   ]
  },
  {
   "cell_type": "code",
   "execution_count": 5,
   "id": "ffaa72a3",
   "metadata": {},
   "outputs": [
    {
     "data": {
      "text/plain": [
       "['BTC', 'XRP', 'LTC', 'ADA', 'ETH']"
      ]
     },
     "execution_count": 5,
     "metadata": {},
     "output_type": "execute_result"
    }
   ],
   "source": [
    "crypto_list = ['BTC', 'XRP', 'LTC', 'ADA', 'ETH']\n",
    "crypto_list"
   ]
  },
  {
   "cell_type": "markdown",
   "id": "4a643a01",
   "metadata": {},
   "source": [
    "Let's confirm the Datatype"
   ]
  },
  {
   "cell_type": "code",
   "execution_count": 6,
   "id": "29dd91b0",
   "metadata": {},
   "outputs": [
    {
     "data": {
      "text/plain": [
       "list"
      ]
     },
     "execution_count": 6,
     "metadata": {},
     "output_type": "execute_result"
    }
   ],
   "source": [
    "type(crypto_list)"
   ]
  },
  {
   "cell_type": "markdown",
   "id": "0c38a1e6",
   "metadata": {},
   "source": [
    "Let's create a one dimensional Pandas \"series\" <br>\n",
    "Let's use Pandas Constructor Method to create a series from a Python list<br>\n",
    "Note that series is formed of data and associated index (numeric index has been automatically generated) <br>\n",
    "Check Pandas Documentation for More information: https://pandas.pydata.org/pandas-docs/stable/reference/api/pandas.Series.html#pandas.Series<br>\n",
    "Object datatype is used for text data (String)"
   ]
  },
  {
   "cell_type": "code",
   "execution_count": 7,
   "id": "d57c4639",
   "metadata": {},
   "outputs": [
    {
     "data": {
      "text/plain": [
       "0    BTC\n",
       "1    XRP\n",
       "2    LTC\n",
       "3    ADA\n",
       "4    ETH\n",
       "dtype: object"
      ]
     },
     "execution_count": 7,
     "metadata": {},
     "output_type": "execute_result"
    }
   ],
   "source": [
    "crypto_series = pd.Series(data = crypto_list)\n",
    "crypto_series"
   ]
  },
  {
   "cell_type": "markdown",
   "id": "4b04a2c1",
   "metadata": {},
   "source": [
    "Let's confirm the Pandas Series Datatype"
   ]
  },
  {
   "cell_type": "code",
   "execution_count": 10,
   "id": "e1ca22b9",
   "metadata": {},
   "outputs": [
    {
     "data": {
      "text/plain": [
       "pandas.core.series.Series"
      ]
     },
     "execution_count": 10,
     "metadata": {},
     "output_type": "execute_result"
    }
   ],
   "source": [
    "type(crypto_series)"
   ]
  },
  {
   "cell_type": "markdown",
   "id": "c70a2c3b",
   "metadata": {},
   "source": [
    "Let's define another Pandas Series that contains numeric values (crypto prices) instead of text data<br>\n",
    "Note that we have int64 datatype which means it's integer stored in 64 bits in memory"
   ]
  },
  {
   "cell_type": "code",
   "execution_count": 12,
   "id": "c704fb99",
   "metadata": {},
   "outputs": [
    {
     "data": {
      "text/plain": [
       "0    2000\n",
       "1     500\n",
       "2    2000\n",
       "3      20\n",
       "4      50\n",
       "dtype: int64"
      ]
     },
     "execution_count": 12,
     "metadata": {},
     "output_type": "execute_result"
    }
   ],
   "source": [
    "crypto_prices_series = pd.Series(data = [2000, 500, 2000, 20, 50])\n",
    "crypto_prices_series"
   ]
  },
  {
   "cell_type": "markdown",
   "id": "7fdff0c2",
   "metadata": {},
   "source": [
    "Let's define a Pandas Series named \"my_series\" that contains my top 3 favourite stocks and confirm the datatype of \"my_series\""
   ]
  },
  {
   "cell_type": "code",
   "execution_count": 19,
   "id": "009f28f5",
   "metadata": {},
   "outputs": [
    {
     "data": {
      "text/plain": [
       "0     Google\n",
       "1    Netflix\n",
       "2     Amazon\n",
       "dtype: object"
      ]
     },
     "execution_count": 19,
     "metadata": {},
     "output_type": "execute_result"
    }
   ],
   "source": [
    "stock_list = ['Google', 'Netflix', 'Amazon']\n",
    "my_series = pd.Series(data = stock_list)\n",
    "my_series"
   ]
  },
  {
   "cell_type": "code",
   "execution_count": 29,
   "id": "f68f2ba0",
   "metadata": {},
   "outputs": [
    {
     "data": {
      "text/plain": [
       "pandas.core.series.Series"
      ]
     },
     "execution_count": 29,
     "metadata": {},
     "output_type": "execute_result"
    }
   ],
   "source": [
    "type(my_series)"
   ]
  },
  {
   "cell_type": "markdown",
   "id": "7ac0c771",
   "metadata": {},
   "source": [
    "### Task 2: DEFINE A PANDAS SERIES WITH CUSTOM INDEX"
   ]
  },
  {
   "cell_type": "markdown",
   "id": "69f34a74",
   "metadata": {},
   "source": [
    "Let's define a python list which will be used for the Series index:"
   ]
  },
  {
   "cell_type": "code",
   "execution_count": 21,
   "id": "f021780f",
   "metadata": {},
   "outputs": [
    {
     "data": {
      "text/plain": [
       "['crypto#1', 'crypto#2', 'crypto#3', 'crypto#4', 'crypto#5']"
      ]
     },
     "execution_count": 21,
     "metadata": {},
     "output_type": "execute_result"
    }
   ],
   "source": [
    "crypto_labels = ['crypto#1', 'crypto#2', 'crypto#3', 'crypto#4', 'crypto#5']\n",
    "crypto_labels"
   ]
  },
  {
   "cell_type": "markdown",
   "id": "367c310e",
   "metadata": {},
   "source": [
    "Now we have two lists, crypto_list and crypto_labels:"
   ]
  },
  {
   "cell_type": "code",
   "execution_count": 22,
   "id": "4181432c",
   "metadata": {},
   "outputs": [
    {
     "data": {
      "text/plain": [
       "['BTC', 'XRP', 'LTC', 'ADA', 'ETH']"
      ]
     },
     "execution_count": 22,
     "metadata": {},
     "output_type": "execute_result"
    }
   ],
   "source": [
    "crypto_list"
   ]
  },
  {
   "cell_type": "markdown",
   "id": "0f8fb776",
   "metadata": {},
   "source": [
    "Let's create a one dimensional Pandas \"series\" <br>\n",
    "Let's use Pandas Constructor Method to create a series from a Python list <br>\n",
    "If we do not do this and just define a panda series, there will be numeric default indices captured in there or defined within the panda series.<br>\n",
    "Note that this series is formed of data and associated labels"
   ]
  },
  {
   "cell_type": "code",
   "execution_count": 23,
   "id": "550a992d",
   "metadata": {},
   "outputs": [],
   "source": [
    "crypto_series = pd.Series(data = crypto_list, index = crypto_labels)"
   ]
  },
  {
   "cell_type": "code",
   "execution_count": 24,
   "id": "230a6d4a",
   "metadata": {},
   "outputs": [
    {
     "data": {
      "text/plain": [
       "crypto#1    BTC\n",
       "crypto#2    XRP\n",
       "crypto#3    LTC\n",
       "crypto#4    ADA\n",
       "crypto#5    ETH\n",
       "dtype: object"
      ]
     },
     "execution_count": 24,
     "metadata": {},
     "output_type": "execute_result"
    }
   ],
   "source": [
    "crypto_series"
   ]
  },
  {
   "cell_type": "markdown",
   "id": "b9ada973",
   "metadata": {},
   "source": [
    "Let's obtain the datatype"
   ]
  },
  {
   "cell_type": "code",
   "execution_count": 25,
   "id": "6e90e80f",
   "metadata": {},
   "outputs": [
    {
     "data": {
      "text/plain": [
       "pandas.core.series.Series"
      ]
     },
     "execution_count": 25,
     "metadata": {},
     "output_type": "execute_result"
    }
   ],
   "source": [
    "type(crypto_series)"
   ]
  },
  {
   "cell_type": "markdown",
   "id": "5c6b9bd2",
   "metadata": {},
   "source": [
    "Let's change default numeric indexes from my_series to the following indexes \"stock #1\", \"stock #2\", and \"stock #3\""
   ]
  },
  {
   "cell_type": "code",
   "execution_count": 26,
   "id": "8b5655d2",
   "metadata": {},
   "outputs": [],
   "source": [
    "stock_labels = ['stock#1', 'stock#2', 'stock#3']"
   ]
  },
  {
   "cell_type": "code",
   "execution_count": 30,
   "id": "f903c75e",
   "metadata": {},
   "outputs": [],
   "source": [
    "stock_series = pd.Series(data = stock_list, index = stock_labels)"
   ]
  },
  {
   "cell_type": "code",
   "execution_count": 31,
   "id": "35cdc8ec",
   "metadata": {},
   "outputs": [
    {
     "data": {
      "text/plain": [
       "stock#1     Google\n",
       "stock#2    Netflix\n",
       "stock#3     Amazon\n",
       "dtype: object"
      ]
     },
     "execution_count": 31,
     "metadata": {},
     "output_type": "execute_result"
    }
   ],
   "source": [
    "stock_series"
   ]
  },
  {
   "cell_type": "markdown",
   "id": "60c5db25",
   "metadata": {},
   "source": [
    "# Task 3: DEFINE A PANDAS SERIES FROM A DICTIONARY"
   ]
  },
  {
   "cell_type": "markdown",
   "id": "3c03a19d",
   "metadata": {},
   "source": [
    "A Dictionary consists of a collection of key-value pairs. Each key-value pair maps the key to its corresponding value.<br>\n",
    "Keys are unique within a dictionary while values may not be. <br>\n",
    "List elements are accessed by their position in the list, via indexing while Dictionary elements are accessed via keys<br>\n",
    "Define a dictionary named \"my_dict\" using key-value pairs"
   ]
  },
  {
   "cell_type": "code",
   "execution_count": 32,
   "id": "5dc9ce78",
   "metadata": {},
   "outputs": [],
   "source": [
    "my_dict = {'Employee ID': 1,\n",
    "           'Employee Name': 'Steve',\n",
    "           'Salary [$]': 2000,\n",
    "           'Years with Company': 10}"
   ]
  },
  {
   "cell_type": "code",
   "execution_count": 33,
   "id": "0eb8c494",
   "metadata": {},
   "outputs": [
    {
     "data": {
      "text/plain": [
       "{'Employee ID': 1,\n",
       " 'Employee Name': 'Steve',\n",
       " 'Salary [$]': 2000,\n",
       " 'Years with Company': 10}"
      ]
     },
     "execution_count": 33,
     "metadata": {},
     "output_type": "execute_result"
    }
   ],
   "source": [
    "my_dict"
   ]
  },
  {
   "cell_type": "code",
   "execution_count": 34,
   "id": "8f3d9d3c",
   "metadata": {},
   "outputs": [
    {
     "data": {
      "text/plain": [
       "dict"
      ]
     },
     "execution_count": 34,
     "metadata": {},
     "output_type": "execute_result"
    }
   ],
   "source": [
    "type(my_dict)"
   ]
  },
  {
   "cell_type": "markdown",
   "id": "5d32f0a7",
   "metadata": {},
   "source": [
    "Let's define a Pandas Series Using the dictionary"
   ]
  },
  {
   "cell_type": "code",
   "execution_count": 35,
   "id": "136beec5",
   "metadata": {},
   "outputs": [
    {
     "data": {
      "text/plain": [
       "Employee ID               1\n",
       "Employee Name         Steve\n",
       "Salary [$]             2000\n",
       "Years with Company       10\n",
       "dtype: object"
      ]
     },
     "execution_count": 35,
     "metadata": {},
     "output_type": "execute_result"
    }
   ],
   "source": [
    "employee_series = pd.Series(my_dict)\n",
    "employee_series"
   ]
  },
  {
   "cell_type": "markdown",
   "id": "3a0d6248",
   "metadata": {},
   "source": [
    "Create a Pandas Series from a dictionary with 3 of your favourite stocks and their corresponding prices"
   ]
  },
  {
   "cell_type": "code",
   "execution_count": 42,
   "id": "9922fa82",
   "metadata": {},
   "outputs": [
    {
     "data": {
      "text/plain": [
       "{'Amazon': 1000, 'Facebook': 3000, 'Netflix': 2500}"
      ]
     },
     "execution_count": 42,
     "metadata": {},
     "output_type": "execute_result"
    }
   ],
   "source": [
    "my_dict_stocks = {'Amazon': 1000,\n",
    "                'Facebook': 3000,\n",
    "                'Netflix': 2500}\n",
    "my_dict_stocks"
   ]
  },
  {
   "cell_type": "code",
   "execution_count": 43,
   "id": "0c57c556",
   "metadata": {},
   "outputs": [
    {
     "data": {
      "text/plain": [
       "Amazon      1000\n",
       "Facebook    3000\n",
       "Netflix     2500\n",
       "dtype: int64"
      ]
     },
     "execution_count": 43,
     "metadata": {},
     "output_type": "execute_result"
    }
   ],
   "source": [
    " stocks_series = pd.Series(my_dict_stocks)\n",
    " stocks_series"
   ]
  },
  {
   "cell_type": "markdown",
   "id": "4c0ad2cc",
   "metadata": {},
   "source": [
    "# Task 4: PANDAS ATTRIBUTES"
   ]
  },
  {
   "cell_type": "markdown",
   "id": "10228565",
   "metadata": {},
   "source": [
    "<b>Attributes/Properties:</b> do not use parantheses \"()\" and are used to get Pandas Series Properties. Ex: my_series.values, my_series.shape <br>\n",
    "<br>\n",
    "<b>Methods:</b> use parantheses \"()\" and might include arguments and they actually alter/change the Pandas Series. Ex: my_series.tail(), my_series.head(), my_series.drop_duplicates() <br>\n",
    "<br>\n",
    "<b>Indexers:</b> use square brackets \"[]\" and are used to access specific elements in a Pandas Series or DataFrame. Ex: my_series.loc[], my_series.iloc[] <br>\n",
    "\n",
    "Let's redefine a Pandas Series containing our favourite 5 cryptos "
   ]
  },
  {
   "cell_type": "code",
   "execution_count": 44,
   "id": "18a7d13b",
   "metadata": {},
   "outputs": [
    {
     "data": {
      "text/plain": [
       "0    BTC\n",
       "1    XRP\n",
       "2    LTC\n",
       "3    ADA\n",
       "4    ETH\n",
       "dtype: object"
      ]
     },
     "execution_count": 44,
     "metadata": {},
     "output_type": "execute_result"
    }
   ],
   "source": [
    "crypto_list = ['BTC', 'XRP', 'LTC', 'ADA', 'ETH']\n",
    "crypto_series = pd.Series(data = crypto_list)\n",
    "crypto_series"
   ]
  },
  {
   "cell_type": "markdown",
   "id": "c7fc693e",
   "metadata": {},
   "source": [
    "\"values\" attribute is used to return Series as ndarray depending on its dtype"
   ]
  },
  {
   "cell_type": "code",
   "execution_count": 45,
   "id": "a1cc7acd",
   "metadata": {},
   "outputs": [
    {
     "data": {
      "text/plain": [
       "array(['BTC', 'XRP', 'LTC', 'ADA', 'ETH'], dtype=object)"
      ]
     },
     "execution_count": 45,
     "metadata": {},
     "output_type": "execute_result"
    }
   ],
   "source": [
    "crypto_series.values"
   ]
  },
  {
   "cell_type": "markdown",
   "id": "9cf36afa",
   "metadata": {},
   "source": [
    "\"index\" is used to return the index (axis labels) of the Series"
   ]
  },
  {
   "cell_type": "code",
   "execution_count": 46,
   "id": "b3bf064c",
   "metadata": {},
   "outputs": [
    {
     "data": {
      "text/plain": [
       "RangeIndex(start=0, stop=5, step=1)"
      ]
     },
     "execution_count": 46,
     "metadata": {},
     "output_type": "execute_result"
    }
   ],
   "source": [
    "crypto_series.index"
   ]
  },
  {
   "cell_type": "markdown",
   "id": "502f36f5",
   "metadata": {},
   "source": [
    "\"dtype\" is used to return the datatype of the Series ('O' stands for 'object' datatype)"
   ]
  },
  {
   "cell_type": "code",
   "execution_count": 48,
   "id": "22b8182d",
   "metadata": {},
   "outputs": [
    {
     "data": {
      "text/plain": [
       "dtype('O')"
      ]
     },
     "execution_count": 48,
     "metadata": {},
     "output_type": "execute_result"
    }
   ],
   "source": [
    "crypto_series.dtype"
   ]
  },
  {
   "cell_type": "markdown",
   "id": "735111bb",
   "metadata": {},
   "source": [
    "Check if all elements are unique or not"
   ]
  },
  {
   "cell_type": "code",
   "execution_count": 51,
   "id": "32fe89ec",
   "metadata": {},
   "outputs": [
    {
     "data": {
      "text/plain": [
       "True"
      ]
     },
     "execution_count": 51,
     "metadata": {},
     "output_type": "execute_result"
    }
   ],
   "source": [
    "crypto_series.is_unique"
   ]
  },
  {
   "cell_type": "markdown",
   "id": "5035f346",
   "metadata": {},
   "source": [
    "Check the shape of the Series, note that a Series is one dimensional"
   ]
  },
  {
   "cell_type": "code",
   "execution_count": 52,
   "id": "747b5563",
   "metadata": {},
   "outputs": [
    {
     "data": {
      "text/plain": [
       "(5,)"
      ]
     },
     "execution_count": 52,
     "metadata": {},
     "output_type": "execute_result"
    }
   ],
   "source": [
    "crypto_series.shape"
   ]
  },
  {
   "cell_type": "markdown",
   "id": "dc217c16",
   "metadata": {},
   "source": [
    "What is the size of the Pandas Series? (External Research for the proper attribute is Required)"
   ]
  },
  {
   "cell_type": "code",
   "execution_count": 53,
   "id": "a28169f9",
   "metadata": {},
   "outputs": [
    {
     "data": {
      "text/plain": [
       "5"
      ]
     },
     "execution_count": 53,
     "metadata": {},
     "output_type": "execute_result"
    }
   ],
   "source": [
    "crypto_series.size"
   ]
  },
  {
   "cell_type": "markdown",
   "id": "96f81cfd",
   "metadata": {},
   "source": [
    "# Task 5: PANDAS METHODS"
   ]
  },
  {
   "cell_type": "markdown",
   "id": "208fa2c0",
   "metadata": {},
   "source": [
    "Methods have parentheses and they actually alter/change the Pandas Series <br>\n",
    "Methods: use parantheses \"()\" and might include arguments. Ex: my_series.tail(), my_series.head(), my_series.drop_duplicates()<br>\n",
    "<br>\n",
    "Let's define another Pandas Series that contains numeric values (crypto prices) instead of text data<br>\n",
    "Note that we have int64 datatype which means it contains integer values stored in 64 bits in memory"
   ]
  },
  {
   "cell_type": "code",
   "execution_count": 55,
   "id": "dfe0b2fe",
   "metadata": {},
   "outputs": [
    {
     "data": {
      "text/plain": [
       "0     400\n",
       "1     500\n",
       "2    1500\n",
       "3      20\n",
       "4      70\n",
       "dtype: int64"
      ]
     },
     "execution_count": 55,
     "metadata": {},
     "output_type": "execute_result"
    }
   ],
   "source": [
    "crypto_prices = pd.Series(data = [400, 500, 1500, 20, 70])\n",
    "crypto_prices"
   ]
  },
  {
   "cell_type": "markdown",
   "id": "43675fcb",
   "metadata": {},
   "source": [
    "Let's obtain the sum of all elements in the Pandas Series"
   ]
  },
  {
   "cell_type": "code",
   "execution_count": 56,
   "id": "7bcdd246",
   "metadata": {},
   "outputs": [
    {
     "data": {
      "text/plain": [
       "2490"
      ]
     },
     "execution_count": 56,
     "metadata": {},
     "output_type": "execute_result"
    }
   ],
   "source": [
    "crypto_prices.sum()"
   ]
  },
  {
   "cell_type": "markdown",
   "id": "ddcd968e",
   "metadata": {},
   "source": [
    "Let's obtain the multiplication of all elements in the Pandas Series"
   ]
  },
  {
   "cell_type": "code",
   "execution_count": 57,
   "id": "09c0767f",
   "metadata": {},
   "outputs": [
    {
     "data": {
      "text/plain": [
       "420000000000"
      ]
     },
     "execution_count": 57,
     "metadata": {},
     "output_type": "execute_result"
    }
   ],
   "source": [
    "crypto_prices.product()"
   ]
  },
  {
   "cell_type": "markdown",
   "id": "026c6dac",
   "metadata": {},
   "source": [
    "Let's obtain the average"
   ]
  },
  {
   "cell_type": "code",
   "execution_count": 58,
   "id": "d1717231",
   "metadata": {},
   "outputs": [
    {
     "data": {
      "text/plain": [
       "498.0"
      ]
     },
     "execution_count": 58,
     "metadata": {},
     "output_type": "execute_result"
    }
   ],
   "source": [
    "crypto_prices.mean()"
   ]
  },
  {
   "cell_type": "markdown",
   "id": "41fb9f04",
   "metadata": {},
   "source": [
    "Let's show the first couple of elements in the Pandas Series <br>\n",
    "Note that head creates a new dataframe "
   ]
  },
  {
   "cell_type": "code",
   "execution_count": 59,
   "id": "b0dba658",
   "metadata": {},
   "outputs": [
    {
     "data": {
      "text/plain": [
       "0    400\n",
       "1    500\n",
       "dtype: int64"
      ]
     },
     "execution_count": 59,
     "metadata": {},
     "output_type": "execute_result"
    }
   ],
   "source": [
    "crypto_prices.head(2)"
   ]
  },
  {
   "cell_type": "markdown",
   "id": "b77e273c",
   "metadata": {},
   "source": [
    "Show the last 2 rows in the Pandas Series"
   ]
  },
  {
   "cell_type": "code",
   "execution_count": 61,
   "id": "c7b79e90",
   "metadata": {},
   "outputs": [
    {
     "data": {
      "text/plain": [
       "3    20\n",
       "4    70\n",
       "dtype: int64"
      ]
     },
     "execution_count": 61,
     "metadata": {},
     "output_type": "execute_result"
    }
   ],
   "source": [
    "crypto_prices.tail(2)"
   ]
  },
  {
   "cell_type": "markdown",
   "id": "092a41b7",
   "metadata": {},
   "source": [
    "How many bytes does this Pandas Series consume in memory?"
   ]
  },
  {
   "cell_type": "code",
   "execution_count": 65,
   "id": "9f889ad3",
   "metadata": {},
   "outputs": [
    {
     "data": {
      "text/plain": [
       "168"
      ]
     },
     "execution_count": 65,
     "metadata": {},
     "output_type": "execute_result"
    }
   ],
   "source": [
    "crypto_prices.memory_usage()"
   ]
  },
  {
   "cell_type": "markdown",
   "id": "1f4faaa3",
   "metadata": {},
   "source": [
    "# Task 6: IMPORT CSV DATA (1-D) USING PANDAS"
   ]
  },
  {
   "cell_type": "markdown",
   "id": "aeb9c666",
   "metadata": {},
   "source": [
    "Pandas read_csv is used to read a csv file and store data in a DataFrame by default<br>\n",
    "Use Squeeze to convert it into a Pandas Series (One-dimensional)<br>\n",
    "Notice that no formatting exists when a Series is plotted"
   ]
  },
  {
   "cell_type": "code",
   "execution_count": 76,
   "id": "15d6e1fe",
   "metadata": {},
   "outputs": [
    {
     "data": {
      "text/plain": [
       "0         457.334015\n",
       "1         424.440002\n",
       "2         394.795990\n",
       "3         408.903992\n",
       "4         398.821014\n",
       "            ...     \n",
       "2380    55950.746090\n",
       "2381    57750.199220\n",
       "2382    58917.691410\n",
       "2383    58918.832030\n",
       "2384    59095.808590\n",
       "Name: BTC-USD Price, Length: 2385, dtype: float64"
      ]
     },
     "execution_count": 76,
     "metadata": {},
     "output_type": "execute_result"
    }
   ],
   "source": [
    "BTC_price_series = pd.read_csv('C:/Users/Martina/OneDrive/Radna površina/Pandas/Projects on Coursera/Python for Data Analysis 1/crypto.csv', squeeze = True)\n",
    "BTC_price_series"
   ]
  },
  {
   "cell_type": "code",
   "execution_count": 77,
   "id": "93887985",
   "metadata": {},
   "outputs": [
    {
     "data": {
      "text/plain": [
       "pandas.core.series.Series"
      ]
     },
     "execution_count": 77,
     "metadata": {},
     "output_type": "execute_result"
    }
   ],
   "source": [
    "type(BTC_price_series)"
   ]
  },
  {
   "cell_type": "code",
   "execution_count": 78,
   "id": "93acf005",
   "metadata": {},
   "outputs": [
    {
     "data": {
      "text/html": [
       "<div>\n",
       "<style scoped>\n",
       "    .dataframe tbody tr th:only-of-type {\n",
       "        vertical-align: middle;\n",
       "    }\n",
       "\n",
       "    .dataframe tbody tr th {\n",
       "        vertical-align: top;\n",
       "    }\n",
       "\n",
       "    .dataframe thead th {\n",
       "        text-align: right;\n",
       "    }\n",
       "</style>\n",
       "<table border=\"1\" class=\"dataframe\">\n",
       "  <thead>\n",
       "    <tr style=\"text-align: right;\">\n",
       "      <th></th>\n",
       "      <th>BTC-USD Price</th>\n",
       "    </tr>\n",
       "  </thead>\n",
       "  <tbody>\n",
       "    <tr>\n",
       "      <th>0</th>\n",
       "      <td>457.334015</td>\n",
       "    </tr>\n",
       "    <tr>\n",
       "      <th>1</th>\n",
       "      <td>424.440002</td>\n",
       "    </tr>\n",
       "    <tr>\n",
       "      <th>2</th>\n",
       "      <td>394.795990</td>\n",
       "    </tr>\n",
       "    <tr>\n",
       "      <th>3</th>\n",
       "      <td>408.903992</td>\n",
       "    </tr>\n",
       "    <tr>\n",
       "      <th>4</th>\n",
       "      <td>398.821014</td>\n",
       "    </tr>\n",
       "    <tr>\n",
       "      <th>...</th>\n",
       "      <td>...</td>\n",
       "    </tr>\n",
       "    <tr>\n",
       "      <th>2380</th>\n",
       "      <td>55950.746090</td>\n",
       "    </tr>\n",
       "    <tr>\n",
       "      <th>2381</th>\n",
       "      <td>57750.199220</td>\n",
       "    </tr>\n",
       "    <tr>\n",
       "      <th>2382</th>\n",
       "      <td>58917.691410</td>\n",
       "    </tr>\n",
       "    <tr>\n",
       "      <th>2383</th>\n",
       "      <td>58918.832030</td>\n",
       "    </tr>\n",
       "    <tr>\n",
       "      <th>2384</th>\n",
       "      <td>59095.808590</td>\n",
       "    </tr>\n",
       "  </tbody>\n",
       "</table>\n",
       "<p>2385 rows × 1 columns</p>\n",
       "</div>"
      ],
      "text/plain": [
       "      BTC-USD Price\n",
       "0        457.334015\n",
       "1        424.440002\n",
       "2        394.795990\n",
       "3        408.903992\n",
       "4        398.821014\n",
       "...             ...\n",
       "2380   55950.746090\n",
       "2381   57750.199220\n",
       "2382   58917.691410\n",
       "2383   58918.832030\n",
       "2384   59095.808590\n",
       "\n",
       "[2385 rows x 1 columns]"
      ]
     },
     "execution_count": 78,
     "metadata": {},
     "output_type": "execute_result"
    }
   ],
   "source": [
    "BTC_price_series_2 = pd.read_csv('C:/Users/Martina/OneDrive/Radna površina/Pandas/Projects on Coursera/Python for Data Analysis 1/crypto.csv', squeeze = False)\n",
    "BTC_price_series_2"
   ]
  },
  {
   "cell_type": "code",
   "execution_count": 79,
   "id": "2bf556c5",
   "metadata": {},
   "outputs": [
    {
     "data": {
      "text/plain": [
       "pandas.core.frame.DataFrame"
      ]
     },
     "execution_count": 79,
     "metadata": {},
     "output_type": "execute_result"
    }
   ],
   "source": [
    "type(BTC_price_series_2)"
   ]
  },
  {
   "cell_type": "markdown",
   "id": "c169e6a9",
   "metadata": {},
   "source": [
    "# Task 7: PANDAS BUILT-IN FUNCTIONS"
   ]
  },
  {
   "cell_type": "markdown",
   "id": "3bdf7e64",
   "metadata": {},
   "source": [
    "Pandas works great with pre-existing python functions <br>\n",
    "You don't have to play with pandas methods and directly leverage Python functions\n"
   ]
  },
  {
   "cell_type": "markdown",
   "id": "630285b4",
   "metadata": {},
   "source": [
    "Obtain the Data Type of the Pandas Series"
   ]
  },
  {
   "cell_type": "code",
   "execution_count": 80,
   "id": "6a13ab07",
   "metadata": {},
   "outputs": [
    {
     "data": {
      "text/plain": [
       "pandas.core.series.Series"
      ]
     },
     "execution_count": 80,
     "metadata": {},
     "output_type": "execute_result"
    }
   ],
   "source": [
    "type(BTC_price_series)"
   ]
  },
  {
   "cell_type": "markdown",
   "id": "3f5f0e72",
   "metadata": {},
   "source": [
    "Obtain the length of the Pandas Series"
   ]
  },
  {
   "cell_type": "code",
   "execution_count": 82,
   "id": "0225af12",
   "metadata": {},
   "outputs": [
    {
     "data": {
      "text/plain": [
       "2385"
      ]
     },
     "execution_count": 82,
     "metadata": {},
     "output_type": "execute_result"
    }
   ],
   "source": [
    "len(BTC_price_series)"
   ]
  },
  {
   "cell_type": "markdown",
   "id": "baf526cf",
   "metadata": {},
   "source": [
    "Obtain the maximum value of the Pandas Series"
   ]
  },
  {
   "cell_type": "code",
   "execution_count": 83,
   "id": "4954bd3d",
   "metadata": {},
   "outputs": [
    {
     "data": {
      "text/plain": [
       "61243.08594"
      ]
     },
     "execution_count": 83,
     "metadata": {},
     "output_type": "execute_result"
    }
   ],
   "source": [
    "max(BTC_price_series)"
   ]
  },
  {
   "cell_type": "markdown",
   "id": "bcbcc722",
   "metadata": {},
   "source": [
    "Obtain the minimum value of the Pandas Series"
   ]
  },
  {
   "cell_type": "code",
   "execution_count": 84,
   "id": "1b1a852d",
   "metadata": {},
   "outputs": [
    {
     "data": {
      "text/plain": [
       "178.1029968"
      ]
     },
     "execution_count": 84,
     "metadata": {},
     "output_type": "execute_result"
    }
   ],
   "source": [
    "min(BTC_price_series)"
   ]
  },
  {
   "cell_type": "markdown",
   "id": "daa872f0",
   "metadata": {},
   "source": [
    "Given the following Pandas Series, convert all positive values to negative using python built-in functions\n",
    "\n"
   ]
  },
  {
   "cell_type": "code",
   "execution_count": 86,
   "id": "228b815d",
   "metadata": {},
   "outputs": [
    {
     "data": {
      "text/plain": [
       "0    -10\n",
       "1    100\n",
       "2    -30\n",
       "3     50\n",
       "4    100\n",
       "dtype: int64"
      ]
     },
     "execution_count": 86,
     "metadata": {},
     "output_type": "execute_result"
    }
   ],
   "source": [
    "my_series = pd.Series(data = [-10, 100, -30, 50, 100])\n",
    "my_series"
   ]
  },
  {
   "cell_type": "code",
   "execution_count": 87,
   "id": "2cf852e8",
   "metadata": {},
   "outputs": [
    {
     "data": {
      "text/plain": [
       "0     10\n",
       "1    100\n",
       "2     30\n",
       "3     50\n",
       "4    100\n",
       "dtype: int64"
      ]
     },
     "execution_count": 87,
     "metadata": {},
     "output_type": "execute_result"
    }
   ],
   "source": [
    "abs(my_series)"
   ]
  },
  {
   "cell_type": "markdown",
   "id": "1669c8d3",
   "metadata": {},
   "source": [
    "Obtain only unique values (ie: Remove duplicates) using python built-in functions"
   ]
  },
  {
   "cell_type": "code",
   "execution_count": 88,
   "id": "8f1cfa45",
   "metadata": {},
   "outputs": [
    {
     "data": {
      "text/plain": [
       "{-30, -10, 50, 100}"
      ]
     },
     "execution_count": 88,
     "metadata": {},
     "output_type": "execute_result"
    }
   ],
   "source": [
    "set(my_series)"
   ]
  },
  {
   "cell_type": "markdown",
   "id": "84e5b9de",
   "metadata": {},
   "source": [
    "# Task 8: SORTING PANDAS SERIES"
   ]
  },
  {
   "cell_type": "code",
   "execution_count": 89,
   "id": "8a4460d9",
   "metadata": {},
   "outputs": [
    {
     "data": {
      "text/plain": [
       "0         457.334015\n",
       "1         424.440002\n",
       "2         394.795990\n",
       "3         408.903992\n",
       "4         398.821014\n",
       "            ...     \n",
       "2380    55950.746090\n",
       "2381    57750.199220\n",
       "2382    58917.691410\n",
       "2383    58918.832030\n",
       "2384    59095.808590\n",
       "Name: BTC-USD Price, Length: 2385, dtype: float64"
      ]
     },
     "execution_count": 89,
     "metadata": {},
     "output_type": "execute_result"
    }
   ],
   "source": [
    "BTC_price_series"
   ]
  },
  {
   "cell_type": "markdown",
   "id": "cf9f0255",
   "metadata": {},
   "source": [
    "You can sort the values in the dataframe as follows"
   ]
  },
  {
   "cell_type": "code",
   "execution_count": 90,
   "id": "0925d4b7",
   "metadata": {},
   "outputs": [
    {
     "data": {
      "text/plain": [
       "119       178.102997\n",
       "122       199.259995\n",
       "121       208.097000\n",
       "120       209.843994\n",
       "123       210.339004\n",
       "            ...     \n",
       "2382    58917.691410\n",
       "2383    58918.832030\n",
       "2384    59095.808590\n",
       "2366    59302.316410\n",
       "2365    61243.085940\n",
       "Name: BTC-USD Price, Length: 2385, dtype: float64"
      ]
     },
     "execution_count": 90,
     "metadata": {},
     "output_type": "execute_result"
    }
   ],
   "source": [
    "BTC_price_series.sort_values()"
   ]
  },
  {
   "cell_type": "markdown",
   "id": "afed6ca4",
   "metadata": {},
   "source": [
    "Let's view Pandas Series again after sorting, Note that nothing changed in memory! You have to make sure that inplace is set to True<br>"
   ]
  },
  {
   "cell_type": "code",
   "execution_count": 91,
   "id": "a8ed8623",
   "metadata": {},
   "outputs": [
    {
     "data": {
      "text/plain": [
       "0         457.334015\n",
       "1         424.440002\n",
       "2         394.795990\n",
       "3         408.903992\n",
       "4         398.821014\n",
       "            ...     \n",
       "2380    55950.746090\n",
       "2381    57750.199220\n",
       "2382    58917.691410\n",
       "2383    58918.832030\n",
       "2384    59095.808590\n",
       "Name: BTC-USD Price, Length: 2385, dtype: float64"
      ]
     },
     "execution_count": 91,
     "metadata": {},
     "output_type": "execute_result"
    }
   ],
   "source": [
    "BTC_price_series"
   ]
  },
  {
   "cell_type": "markdown",
   "id": "773132c0",
   "metadata": {},
   "source": [
    "Set inplace = True to ensure that change has taken place in memory"
   ]
  },
  {
   "cell_type": "code",
   "execution_count": 92,
   "id": "109425cc",
   "metadata": {},
   "outputs": [],
   "source": [
    "BTC_price_series.sort_values(inplace = True)"
   ]
  },
  {
   "cell_type": "code",
   "execution_count": 93,
   "id": "4554a520",
   "metadata": {},
   "outputs": [
    {
     "data": {
      "text/plain": [
       "119       178.102997\n",
       "122       199.259995\n",
       "121       208.097000\n",
       "120       209.843994\n",
       "123       210.339004\n",
       "            ...     \n",
       "2382    58917.691410\n",
       "2383    58918.832030\n",
       "2384    59095.808590\n",
       "2366    59302.316410\n",
       "2365    61243.085940\n",
       "Name: BTC-USD Price, Length: 2385, dtype: float64"
      ]
     },
     "execution_count": 93,
     "metadata": {},
     "output_type": "execute_result"
    }
   ],
   "source": [
    "BTC_price_series"
   ]
  },
  {
   "cell_type": "markdown",
   "id": "9416c829",
   "metadata": {},
   "source": [
    "You can also sort by index (revert back to the original Pandas Series) as follows: "
   ]
  },
  {
   "cell_type": "code",
   "execution_count": 96,
   "id": "7254bc50",
   "metadata": {},
   "outputs": [],
   "source": [
    "BTC_price_series.sort_index(inplace = True)"
   ]
  },
  {
   "cell_type": "code",
   "execution_count": 97,
   "id": "ae2337a8",
   "metadata": {},
   "outputs": [
    {
     "data": {
      "text/plain": [
       "0         457.334015\n",
       "1         424.440002\n",
       "2         394.795990\n",
       "3         408.903992\n",
       "4         398.821014\n",
       "            ...     \n",
       "2380    55950.746090\n",
       "2381    57750.199220\n",
       "2382    58917.691410\n",
       "2383    58918.832030\n",
       "2384    59095.808590\n",
       "Name: BTC-USD Price, Length: 2385, dtype: float64"
      ]
     },
     "execution_count": 97,
     "metadata": {},
     "output_type": "execute_result"
    }
   ],
   "source": [
    "BTC_price_series"
   ]
  },
  {
   "cell_type": "markdown",
   "id": "c7d62cd5",
   "metadata": {},
   "source": [
    "Sort the BTC_price_series values in a decending order instead. Make sure to update values in-memory."
   ]
  },
  {
   "cell_type": "code",
   "execution_count": 100,
   "id": "e64c6463",
   "metadata": {},
   "outputs": [
    {
     "data": {
      "text/plain": [
       "2365    61243.085940\n",
       "2366    59302.316410\n",
       "2384    59095.808590\n",
       "2383    58918.832030\n",
       "2382    58917.691410\n",
       "            ...     \n",
       "123       210.339004\n",
       "120       209.843994\n",
       "121       208.097000\n",
       "122       199.259995\n",
       "119       178.102997\n",
       "Name: BTC-USD Price, Length: 2385, dtype: float64"
      ]
     },
     "execution_count": 100,
     "metadata": {},
     "output_type": "execute_result"
    }
   ],
   "source": [
    "BTC_price_series.sort_values(ascending = False, inplace = True)\n",
    "BTC_price_series"
   ]
  },
  {
   "cell_type": "markdown",
   "id": "e189d9aa",
   "metadata": {},
   "source": [
    "# Task 9: PERFORM MATH OPERATIONS ON PANDAS SERIES"
   ]
  },
  {
   "cell_type": "markdown",
   "id": "03362870",
   "metadata": {},
   "source": [
    "Apply Sum Method on Pandas Series"
   ]
  },
  {
   "cell_type": "code",
   "execution_count": 101,
   "id": "134ea934",
   "metadata": {},
   "outputs": [
    {
     "data": {
      "text/plain": [
       "15435379.7388527"
      ]
     },
     "execution_count": 101,
     "metadata": {},
     "output_type": "execute_result"
    }
   ],
   "source": [
    "BTC_price_series.sum()"
   ]
  },
  {
   "cell_type": "markdown",
   "id": "65c3caf4",
   "metadata": {},
   "source": [
    "Apply count Method on Pandas Series"
   ]
  },
  {
   "cell_type": "code",
   "execution_count": 102,
   "id": "8bdcc594",
   "metadata": {},
   "outputs": [
    {
     "data": {
      "text/plain": [
       "2385"
      ]
     },
     "execution_count": 102,
     "metadata": {},
     "output_type": "execute_result"
    }
   ],
   "source": [
    "BTC_price_series.count()"
   ]
  },
  {
   "cell_type": "markdown",
   "id": "9a5f221c",
   "metadata": {},
   "source": [
    "Obtain the maximum value"
   ]
  },
  {
   "cell_type": "code",
   "execution_count": 103,
   "id": "4984c5de",
   "metadata": {},
   "outputs": [
    {
     "data": {
      "text/plain": [
       "61243.08594"
      ]
     },
     "execution_count": 103,
     "metadata": {},
     "output_type": "execute_result"
    }
   ],
   "source": [
    "BTC_price_series.max()"
   ]
  },
  {
   "cell_type": "markdown",
   "id": "18fa28ba",
   "metadata": {},
   "source": [
    "Obtain the minimum value"
   ]
  },
  {
   "cell_type": "code",
   "execution_count": 104,
   "id": "2a005ba6",
   "metadata": {},
   "outputs": [
    {
     "data": {
      "text/plain": [
       "178.1029968"
      ]
     },
     "execution_count": 104,
     "metadata": {},
     "output_type": "execute_result"
    }
   ],
   "source": [
    "BTC_price_series.min()"
   ]
  },
  {
   "cell_type": "markdown",
   "id": "892bd94d",
   "metadata": {},
   "source": [
    "Describe is used to obtain all statistical information in one place "
   ]
  },
  {
   "cell_type": "code",
   "execution_count": 107,
   "id": "06eab5f9",
   "metadata": {},
   "outputs": [
    {
     "data": {
      "text/plain": [
       "count     2385.000000\n",
       "mean      6471.857333\n",
       "std       9289.022505\n",
       "min        178.102997\n",
       "25%        454.618988\n",
       "50%       4076.632568\n",
       "75%       8864.766602\n",
       "max      61243.085940\n",
       "Name: BTC-USD Price, dtype: float64"
      ]
     },
     "execution_count": 107,
     "metadata": {},
     "output_type": "execute_result"
    }
   ],
   "source": [
    "BTC_price_series.describe()"
   ]
  },
  {
   "cell_type": "markdown",
   "id": "ab08bb93",
   "metadata": {},
   "source": [
    "Obtain the average price of the BTC_price_series using two different methods"
   ]
  },
  {
   "cell_type": "code",
   "execution_count": 108,
   "id": "44f90039",
   "metadata": {},
   "outputs": [
    {
     "data": {
      "text/plain": [
       "6471.857332852288"
      ]
     },
     "execution_count": 108,
     "metadata": {},
     "output_type": "execute_result"
    }
   ],
   "source": [
    "BTC_price_series.mean()"
   ]
  },
  {
   "cell_type": "code",
   "execution_count": 109,
   "id": "a1150b37",
   "metadata": {},
   "outputs": [
    {
     "data": {
      "text/plain": [
       "6471.857332852285"
      ]
     },
     "execution_count": 109,
     "metadata": {},
     "output_type": "execute_result"
    }
   ],
   "source": [
    "BTC_price_series.sum()/BTC_price_series.count()"
   ]
  },
  {
   "cell_type": "markdown",
   "id": "15667ba9",
   "metadata": {},
   "source": [
    "# Task 10: CHECK IF A GIVEN ELEMENT EXISTS IN A PANDAS SERIES"
   ]
  },
  {
   "cell_type": "markdown",
   "id": "4ecaa1a9",
   "metadata": {},
   "source": [
    "Check if a given number exists in a Pandas Series values<br>\n",
    "Returns a boolean \"True\" or \"False\""
   ]
  },
  {
   "cell_type": "code",
   "execution_count": 111,
   "id": "d3c66ea8",
   "metadata": {},
   "outputs": [
    {
     "data": {
      "text/plain": [
       "False"
      ]
     },
     "execution_count": 111,
     "metadata": {},
     "output_type": "execute_result"
    }
   ],
   "source": [
    "1295.5 in BTC_price_series.values"
   ]
  },
  {
   "cell_type": "markdown",
   "id": "a9d956b1",
   "metadata": {},
   "source": [
    "Check if a given number exists in a Pandas Series index. Note that by default 'in' will search in Pandas index and not values"
   ]
  },
  {
   "cell_type": "code",
   "execution_count": 112,
   "id": "257414bb",
   "metadata": {},
   "outputs": [
    {
     "data": {
      "text/plain": [
       "True"
      ]
     },
     "execution_count": 112,
     "metadata": {},
     "output_type": "execute_result"
    }
   ],
   "source": [
    "1295 in BTC_price_series.index"
   ]
  },
  {
   "cell_type": "markdown",
   "id": "766aab74",
   "metadata": {},
   "source": [
    "Check if the stock price 399 exists in the BTC_price_series Pandas Series or not\n"
   ]
  },
  {
   "cell_type": "code",
   "execution_count": 114,
   "id": "14715fc2",
   "metadata": {},
   "outputs": [
    {
     "data": {
      "text/plain": [
       "False"
      ]
     },
     "execution_count": 114,
     "metadata": {},
     "output_type": "execute_result"
    }
   ],
   "source": [
    "399 in BTC_price_series.values"
   ]
  },
  {
   "cell_type": "markdown",
   "id": "c43bee5a",
   "metadata": {},
   "source": [
    "Round stock prices to the nearest integer and check again"
   ]
  },
  {
   "cell_type": "code",
   "execution_count": 117,
   "id": "75c89c6d",
   "metadata": {},
   "outputs": [
    {
     "data": {
      "text/plain": [
       "2365    61243.0\n",
       "2366    59302.0\n",
       "2384    59096.0\n",
       "2383    58919.0\n",
       "2382    58918.0\n",
       "         ...   \n",
       "123       210.0\n",
       "120       210.0\n",
       "121       208.0\n",
       "122       199.0\n",
       "119       178.0\n",
       "Name: BTC-USD Price, Length: 2385, dtype: float64"
      ]
     },
     "execution_count": 117,
     "metadata": {},
     "output_type": "execute_result"
    }
   ],
   "source": [
    "rounded_series = round(BTC_price_series)\n",
    "rounded_series"
   ]
  },
  {
   "cell_type": "code",
   "execution_count": 118,
   "id": "81ed4f49",
   "metadata": {},
   "outputs": [
    {
     "data": {
      "text/plain": [
       "True"
      ]
     },
     "execution_count": 118,
     "metadata": {},
     "output_type": "execute_result"
    }
   ],
   "source": [
    "399 in rounded_series.values"
   ]
  }
 ],
 "metadata": {
  "kernelspec": {
   "display_name": "Python 3 (ipykernel)",
   "language": "python",
   "name": "python3"
  },
  "language_info": {
   "codemirror_mode": {
    "name": "ipython",
    "version": 3
   },
   "file_extension": ".py",
   "mimetype": "text/x-python",
   "name": "python",
   "nbconvert_exporter": "python",
   "pygments_lexer": "ipython3",
   "version": "3.9.7"
  }
 },
 "nbformat": 4,
 "nbformat_minor": 5
}
